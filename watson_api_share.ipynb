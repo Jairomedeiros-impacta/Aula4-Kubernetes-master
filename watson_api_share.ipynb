{
  "nbformat": 4,
  "nbformat_minor": 0,
  "metadata": {
    "colab": {
      "name": "watson_api_share.ipynb",
      "provenance": [],
      "collapsed_sections": [],
      "include_colab_link": true
    },
    "kernelspec": {
      "name": "python3",
      "display_name": "Python 3"
    },
    "language_info": {
      "name": "python"
    }
  },
  "cells": [
    {
      "cell_type": "markdown",
      "metadata": {
        "id": "view-in-github",
        "colab_type": "text"
      },
      "source": [
        "<a href=\"https://colab.research.google.com/github/Jairomedeiros-impacta/Aula4-Kubernetes-master-k8s/blob/main/watson_api_share.ipynb\" target=\"_parent\"><img src=\"https://colab.research.google.com/assets/colab-badge.svg\" alt=\"Open In Colab\"/></a>"
      ]
    },
    {
      "cell_type": "code",
      "metadata": {
        "id": "opvPnjcOWM9l"
      },
      "source": [
        "# bibliotecas auxiliares e importações de suporte\n",
        "\n",
        "#biblioteca para executar api flask no colab\n",
        "!pip install flask-ngrok\n",
        "\n",
        "# biblioteca para entrar dados mascarados\n",
        "from getpass import getpass"
      ],
      "execution_count": null,
      "outputs": []
    },
    {
      "cell_type": "code",
      "metadata": {
        "id": "EVU9BCqAok3N"
      },
      "source": [
        "# Configuração de usuário e senha do email smtp\n",
        "u = getpass('User: ')\n",
        "g = getpass('Password: ')"
      ],
      "execution_count": null,
      "outputs": []
    },
    {
      "cell_type": "code",
      "metadata": {
        "id": "Y2DiVF1fUWuF"
      },
      "source": [
        "# módulos necessários do flask\n",
        "from flask import Flask, request, jsonify\n",
        "\n",
        "# módulos para crawler das informações\n",
        "import requests\n",
        "from bs4 import BeautifulSoup\n",
        "\n",
        "# módulos para envio de e-mail\n",
        "import smtplib\n",
        "from email.mime.multipart import MIMEMultipart\n",
        "from email.mime.text import MIMEText\n",
        "\n",
        "# criar app Flask\n",
        "app = Flask(__name__, static_url_path='')\n",
        "\n",
        "# apenas para executar no colab\n",
        "from flask_ngrok import run_with_ngrok\n",
        "run_with_ngrok(app)\n",
        "\n",
        "# mapeamento das URLs dos cursos para crawler\n",
        "curso_urls = {\n",
        "    'IA':'https://www.impacta.edu.br/mba/artificial-intelligence',\n",
        "    'Big Data':'https://www.impacta.edu.br/mba/business-intelligence-e-analytics'\n",
        "}\n",
        "\n",
        "# GET raiz para teste\n",
        "@app.route('/')\n",
        "def root():        \n",
        "    return \"OK\"\n",
        "\n",
        "# endpoint do webhook - POST\n",
        "@app.route('/watsonwebhook',  methods=['POST'])\n",
        "def watsonwebhook():\n",
        "  # retornar dados enviados no formato JSON\n",
        "  req = request.get_json()\n",
        "\n",
        "  # tipo da task enviada: info ou email\n",
        "  task = req['task']\n",
        "  if task =='info':\n",
        "\n",
        "    # nome do curso enviado\n",
        "    curso = req['curso']\n",
        "\n",
        "    #crawler para pegar informações\n",
        "    r = requests.get(curso_urls[curso]).text\n",
        "    info = BeautifulSoup(r, 'html.parser')(class_='background-base-site')[0].text\n",
        "\n",
        "    #retornar informações no campo info, no formato JSON\n",
        "    return jsonify({'info':info})\n",
        "  elif task == 'email':\n",
        "    try:\n",
        "      # configuração e envio de email\n",
        "      message = MIMEMultipart()\n",
        "      message['From'] = u\n",
        "      message['To'] = req['email']\n",
        "      message['Subject'] = 'Confirmação pré-matrícula'\n",
        "      texto_mensagem = f'Olá! Sua pré-matrícula no curso de {req[\"curso\"]} para o {req[\"semestre\"]} semestre está confirmada'\n",
        "      message.attach(MIMEText(texto_mensagem, 'plain'))\n",
        "      \n",
        "      session = smtplib.SMTP('smtp.gmail.com', 587) \n",
        "      session.starttls()\n",
        "      session.login(u, g)\n",
        "      text = message.as_string()\n",
        "      session.sendmail(u, req['email'], text)\n",
        "      session.quit()\n",
        "      # retorno de sucesso no formato JSON\n",
        "      return jsonify({'status':'ok'})\n",
        "    except Exception as ex:\n",
        "      print(ex)\n",
        "      # retorno de erro no formato JSON\n",
        "      return jsonify({'status':'erro'})\n",
        "  \n",
        "# executar app flask\n",
        "if __name__ == '__main__':\n",
        "  app.run()\n"
      ],
      "execution_count": null,
      "outputs": []
    }
  ]
}